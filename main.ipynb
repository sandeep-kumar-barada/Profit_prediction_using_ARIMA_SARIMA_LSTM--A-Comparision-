{
 "cells": [
  {
   "cell_type": "markdown",
   "id": "f32cc785",
   "metadata": {},
   "source": [
    "# Profit prediction using Arima,Sarima,LSTM (A comparision)\n"
   ]
  }
 ],
 "metadata": {
  "language_info": {
   "name": "python"
  }
 },
 "nbformat": 4,
 "nbformat_minor": 5
}
